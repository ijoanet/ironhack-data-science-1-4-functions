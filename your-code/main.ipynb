{
 "cells": [
  {
   "cell_type": "markdown",
   "metadata": {},
   "source": [
    "# Functions"
   ]
  },
  {
   "cell_type": "markdown",
   "metadata": {},
   "source": [
    "En este laboratorio pondremos en práctica algunos de los conceptos que hemos aprendido en los últimos días.\n",
    "\n",
    "`NOTA: En este laboratorio deberías intentar escribir todas las funciones por ti mismo utilizando solo la sintaxis más básica de Python y sin funciones como len, count, sum, max, min, in, etc. Dale una oportunidad. 🧑🏻‍💻👩🏻‍💻`\n",
    "\n",
    "La celda después de cada ejercicio contiene algunas pruebas para verificar si tu función funciona como se espera."
   ]
  },
  {
   "cell_type": "code",
   "execution_count": 1,
   "metadata": {},
   "outputs": [],
   "source": [
    "from mod.testing import *\n",
    "import unittest"
   ]
  },
  {
   "cell_type": "markdown",
   "metadata": {},
   "source": [
    "## 1. Escribe una función que devuelva el mayor de dos números"
   ]
  },
  {
   "cell_type": "code",
   "execution_count": 2,
   "metadata": {},
   "outputs": [],
   "source": [
    "def greater(a,b):\n",
    "    return a if a > b else b"
   ]
  },
  {
   "cell_type": "code",
   "execution_count": 3,
   "metadata": {},
   "outputs": [
    {
     "name": "stderr",
     "output_type": "stream",
     "text": [
      "....................................................................................................\n",
      "----------------------------------------------------------------------\n",
      "Ran 100 tests in 0.042s\n",
      "\n",
      "OK\n"
     ]
    }
   ],
   "source": [
    "# Para testear tu función\n",
    "test_greater(greater)"
   ]
  },
  {
   "cell_type": "markdown",
   "metadata": {},
   "source": [
    "## 2. Ahora escribe una función que devuelva el elemento más grande dentro de una lista"
   ]
  },
  {
   "cell_type": "code",
   "execution_count": 4,
   "metadata": {},
   "outputs": [],
   "source": [
    "def greatest(lst):\n",
    "    out = 0\n",
    "    for item in lst:\n",
    "        if item > out:\n",
    "            out = item\n",
    "    return out\n",
    "\n",
    "\n",
    "def greatest_lambda(lst):\n",
    "    return reduce(lambda a, b: a if a > b else b, lst)"
   ]
  },
  {
   "cell_type": "code",
   "execution_count": 5,
   "metadata": {},
   "outputs": [
    {
     "name": "stderr",
     "output_type": "stream",
     "text": [
      "....................................................................................................\n",
      "----------------------------------------------------------------------\n",
      "Ran 100 tests in 0.017s\n",
      "\n",
      "OK\n",
      "....................................................................................................\n",
      "----------------------------------------------------------------------\n",
      "Ran 100 tests in 0.015s\n",
      "\n",
      "OK\n"
     ]
    }
   ],
   "source": [
    "# Para testear tu función\n",
    "test_greatest(greatest)\n",
    "test_greatest(greatest_lambda)"
   ]
  },
  {
   "cell_type": "markdown",
   "metadata": {},
   "source": [
    "## 3. Escribe una función que sume todos los elementos de una lista"
   ]
  },
  {
   "cell_type": "code",
   "execution_count": 6,
   "metadata": {},
   "outputs": [],
   "source": [
    "def sum_all(lst):\n",
    "    total = 0\n",
    "    for item in lst:\n",
    "        total += item\n",
    "    return total\n",
    "\n",
    "def sum_all_lambda(lst):\n",
    "    return reduce(lambda a, b: a+b, lst)"
   ]
  },
  {
   "cell_type": "code",
   "execution_count": 7,
   "metadata": {
    "scrolled": true
   },
   "outputs": [
    {
     "name": "stderr",
     "output_type": "stream",
     "text": [
      "....................................................................................................\n",
      "----------------------------------------------------------------------\n",
      "Ran 100 tests in 0.014s\n",
      "\n",
      "OK\n",
      "....................................................................................................\n",
      "----------------------------------------------------------------------\n",
      "Ran 100 tests in 0.015s\n",
      "\n",
      "OK\n"
     ]
    }
   ],
   "source": [
    "# Para testear tu función\n",
    "test_sum(sum_all)\n",
    "test_sum(sum_all_lambda)"
   ]
  },
  {
   "cell_type": "markdown",
   "metadata": {},
   "source": [
    "## 4. Escribe otra función que multiplique todos los elementos de una lista"
   ]
  },
  {
   "cell_type": "code",
   "execution_count": 8,
   "metadata": {},
   "outputs": [],
   "source": [
    "def mult_all(lst):\n",
    "    return reduce(lambda a, b: a*b, lst, 1)"
   ]
  },
  {
   "cell_type": "code",
   "execution_count": 9,
   "metadata": {
    "scrolled": true
   },
   "outputs": [
    {
     "name": "stderr",
     "output_type": "stream",
     "text": [
      "....................................................................................................\n",
      "----------------------------------------------------------------------\n",
      "Ran 100 tests in 0.016s\n",
      "\n",
      "OK\n"
     ]
    }
   ],
   "source": [
    "# Para testear tu función\n",
    "test_mult(mult_all)"
   ]
  },
  {
   "cell_type": "markdown",
   "metadata": {},
   "source": [
    "## 5. Ahora combina esas dos ideas y escribe una función que reciba una lista y ya sea \"+\" o \"*\", y produzca el resultado acorde"
   ]
  },
  {
   "cell_type": "code",
   "execution_count": 10,
   "metadata": {},
   "outputs": [],
   "source": [
    "def oper_all(arr, oper = \"*\"):\n",
    "    if oper == \"+\":\n",
    "        return reduce(lambda a, b: a+b, arr, 0)\n",
    "    else:\n",
    "        return reduce(lambda a, b: a*b, arr)\n",
    "\n",
    "def oper_all_oneline(arr, oper = \"*\"):\n",
    "    return reduce(lambda a, b: a+b, arr, 0) if oper == \"+\" else reduce(lambda a, b:a*b, arr)"
   ]
  },
  {
   "cell_type": "code",
   "execution_count": 11,
   "metadata": {
    "editable": true,
    "slideshow": {
     "slide_type": ""
    },
    "tags": []
   },
   "outputs": [
    {
     "name": "stderr",
     "output_type": "stream",
     "text": [
      "....................................................................................................\n",
      "----------------------------------------------------------------------\n",
      "Ran 100 tests in 0.082s\n",
      "\n",
      "OK\n",
      "....................................................................................................\n",
      "----------------------------------------------------------------------\n",
      "Ran 100 tests in 0.018s\n",
      "\n",
      "OK\n"
     ]
    }
   ],
   "source": [
    "# Para testear tu función\n",
    "test_operations(oper_all)\n",
    "test_operations(oper_all_oneline)"
   ]
  },
  {
   "cell_type": "markdown",
   "metadata": {},
   "source": [
    "## 6. Escribe una función que devuelva el factorial de un número."
   ]
  },
  {
   "cell_type": "code",
   "execution_count": 12,
   "metadata": {},
   "outputs": [],
   "source": [
    "def factorial(n):\n",
    "    out = 1\n",
    "    for i in range(n):\n",
    "        out *= n - i\n",
    "    return out\n",
    "\n",
    "def factorial_recursive(n):\n",
    "    return n * factorial(n-1) if n else 1"
   ]
  },
  {
   "cell_type": "code",
   "execution_count": 13,
   "metadata": {},
   "outputs": [],
   "source": [
    "# Fórmula factorial\n",
    "# n! = n * (n - 1) *...*1\n",
    "\n",
    "# Este código define una función llamada \"factorial\" que toma una entrada \"n\". La función utiliza un bucle for para iterar a través del rango de números\n",
    "# desde 1 hasta n+1. Para cada número en ese rango, multiplica el valor actual de x por el número en el rango. Al final del bucle,\n",
    "# la función devuelve el valor final de x, que será el factorial del número de entrada \"n\".\n",
    "\n",
    "# El factorial de un entero positivo n es el producto de todos los enteros positivos menores o iguales a n.\n",
    "# Por ejemplo, el factorial de 6 (escrito \"6!\") es 6 * 5 * 4 * 3 * 2 * 1 = 720.\n",
    "\n",
    "# Así que esta función toma una entrada de cualquier entero positivo y devuelve el factorial de ese número."
   ]
  },
  {
   "cell_type": "code",
   "execution_count": 14,
   "metadata": {},
   "outputs": [
    {
     "name": "stderr",
     "output_type": "stream",
     "text": [
      "....................................................................................................\n",
      "----------------------------------------------------------------------\n",
      "Ran 100 tests in 0.015s\n",
      "\n",
      "OK\n",
      "....................................................................................................\n",
      "----------------------------------------------------------------------\n",
      "Ran 100 tests in 0.068s\n",
      "\n",
      "OK\n"
     ]
    }
   ],
   "source": [
    "# This will test your function\n",
    "test_factorial(factorial)\n",
    "test_factorial(factorial_recursive)"
   ]
  },
  {
   "cell_type": "markdown",
   "metadata": {},
   "source": [
    "## 7. Escribe una función que tome una lista y devuelva una lista de los valores únicos.\n",
    "\n",
    "`NOTE: No podemos usar set. 🤔`"
   ]
  },
  {
   "cell_type": "code",
   "execution_count": 15,
   "metadata": {},
   "outputs": [],
   "source": [
    "def unique(list_un):\n",
    "    return list(dict.fromkeys(list_un))"
   ]
  },
  {
   "cell_type": "code",
   "execution_count": 16,
   "metadata": {},
   "outputs": [
    {
     "name": "stderr",
     "output_type": "stream",
     "text": [
      "....................................................................................................\n",
      "----------------------------------------------------------------------\n",
      "Ran 100 tests in 0.024s\n",
      "\n",
      "OK\n"
     ]
    }
   ],
   "source": [
    "# Para testear tu función\n",
    "test_unique(unique)"
   ]
  },
  {
   "cell_type": "markdown",
   "metadata": {},
   "source": [
    "## 8. Escribe una función que devuelva la moda de una lista, es decir: el elemento que aparece más veces.\n",
    "\n",
    "`NOTE: No se debe usar count... 🧐`"
   ]
  },
  {
   "cell_type": "code",
   "execution_count": 17,
   "metadata": {},
   "outputs": [],
   "source": [
    "def mode_counter(arr):\n",
    "    mode_dict = dict.fromkeys(arr)\n",
    "    for key in arr:\n",
    "        if isinstance(mode_dict[key], int):\n",
    "            mode_dict[key] += 1\n",
    "        else:\n",
    "            mode_dict[key] = 1\n",
    "    mode = arr[0]\n",
    "\n",
    "    for key in mode_dict.keys():\n",
    "        if mode_dict.get(key) > mode_dict.get(mode):\n",
    "            mode = key\n",
    "    return mode"
   ]
  },
  {
   "cell_type": "code",
   "execution_count": 18,
   "metadata": {},
   "outputs": [
    {
     "name": "stderr",
     "output_type": "stream",
     "text": [
      "....................................................................................................\n",
      "----------------------------------------------------------------------\n",
      "Ran 100 tests in 0.022s\n",
      "\n",
      "OK\n"
     ]
    }
   ],
   "source": [
    "# Para testear tu función\n",
    "test_mode(mode_counter)"
   ]
  },
  {
   "cell_type": "markdown",
   "metadata": {},
   "source": [
    "## 9. Escribe una función que calcule la desviación estándar de una lista.\n",
    "`NOTE: no utilices librerías ni ninguna función ya construida. 😉`"
   ]
  },
  {
   "cell_type": "code",
   "execution_count": 19,
   "metadata": {},
   "outputs": [],
   "source": [
    "test_str = [1, 2, 3, 4, 5]\n",
    "\n",
    "def custom_len(lst):\n",
    "    counter = 0\n",
    "    for item in lst:\n",
    "        counter += 1\n",
    "    return counter\n",
    "assert custom_len(test_str) == 5\n",
    "\n",
    "# Max recursivity exceeded error -.-\n",
    "def custom_len_rec(lst):\n",
    "    return 1 + custom_len(lst[1:]) if lst != \"\" else 0\n",
    "assert custom_len_rec(test_str) == 5\n",
    "\n",
    "def custom_sum(lst):\n",
    "    return reduce(lambda a, b: a+b, lst, 0)\n",
    "assert custom_sum(test_str) == 15\n",
    "\n",
    "def custom_sqrt(num):\n",
    "    return num ** 0.5\n",
    "assert custom_sqrt(16) == 4\n",
    "\n",
    "def st_dev(mylist):\n",
    "    ls=[]\n",
    "    for i in mylist:\n",
    "        ls.append((i - custom_sum(mylist)/custom_len(mylist))**2)\n",
    "    return custom_sqrt( custom_sum(ls) / (custom_len(mylist) - 1))"
   ]
  },
  {
   "cell_type": "code",
   "execution_count": 20,
   "metadata": {},
   "outputs": [
    {
     "name": "stderr",
     "output_type": "stream",
     "text": [
      "....................................................................................................\n",
      "----------------------------------------------------------------------\n",
      "Ran 100 tests in 0.068s\n",
      "\n",
      "OK\n"
     ]
    }
   ],
   "source": [
    "# Para testear tu función\n",
    "test_stdev(st_dev)"
   ]
  },
  {
   "cell_type": "markdown",
   "metadata": {},
   "source": [
    "## 10. Escribe una función para verificar si una cadena es un pangrama, es decir: si contiene todas las letras del alfabeto al menos una vez. Ten en cuenta que las cadenas pueden contener caracteres que no son letras."
   ]
  },
  {
   "cell_type": "code",
   "execution_count": 30,
   "metadata": {},
   "outputs": [
    {
     "name": "stderr",
     "output_type": "stream",
     "text": [
      "..............................\n",
      "----------------------------------------------------------------------\n",
      "Ran 30 tests in 0.015s\n",
      "\n",
      "OK\n"
     ]
    }
   ],
   "source": [
    "import re\n",
    "\n",
    "test_str = \"Waltz, nymph, for quick jigs vex Bud.\"\n",
    "\n",
    "def custom_len(lst):\n",
    "    counter = 0\n",
    "    for item in lst:\n",
    "        counter += 1\n",
    "    return counter\n",
    "assert custom_len(test_str) == 37\n",
    "\n",
    "def pangram(phrase):\n",
    "    # (?!.*\\1) -> Don't match most recent match (avoid matching the same char more than one)\n",
    "    return custom_len(re.findall(r\"([a-z])(?!.*\\1)\", phrase.lower())) == 26\n",
    "assert pangram(test_str) == True\n",
    "\n",
    "test_pangram(pangram)"
   ]
  },
  {
   "cell_type": "code",
   "execution_count": 36,
   "metadata": {},
   "outputs": [
    {
     "name": "stdout",
     "output_type": "stream",
     "text": [
      "Waltz, nymph, for quick jigs vex Bu\n"
     ]
    }
   ],
   "source": [
    "test_str = \"Waltz, nymph, for quick jigs vex Bud.\"\n",
    "\n",
    "def custom_len(lst):\n",
    "    counter = 0\n",
    "    for item in lst:\n",
    "        counter += 1\n",
    "    return counter\n",
    "assert custom_len(test_str) == 37\n",
    "\n",
    "def pangram(phrase):\n",
    "    filtered = list(dict.fromkeys(pangrams[0]))\n",
    "    count = 0\n",
    "    for char_alphabet in \"abcdefghijklmnopqrstuvwxyz\":\n",
    "        for char_phrase in phrase.lower():\n",
    "            if char_phrase == char_alphabet:\n",
    "                count += 1\n",
    "                break\n",
    "    return count == 26\n",
    "assert pangram(test_str) == True\n",
    "assert pangram(test_str[:-2]) == False"
   ]
  },
  {
   "cell_type": "code",
   "execution_count": 37,
   "metadata": {},
   "outputs": [
    {
     "name": "stderr",
     "output_type": "stream",
     "text": [
      "..............................\n",
      "----------------------------------------------------------------------\n",
      "Ran 30 tests in 0.016s\n",
      "\n",
      "OK\n"
     ]
    }
   ],
   "source": [
    "# Para testear tu función\n",
    "test_pangram(pangram)"
   ]
  },
  {
   "cell_type": "markdown",
   "metadata": {},
   "source": [
    "## 11. Escribe una función que reciba una cadena de palabras separadas por comas y devuelva una cadena de palabras separadas por comas ordenadas alfabéticamente.\n",
    "\n",
    "`NOTA: Puedes usar sorted pero no split y definitivamente no join! 🤪`"
   ]
  },
  {
   "cell_type": "code",
   "execution_count": 130,
   "metadata": {},
   "outputs": [],
   "source": [
    "test_str = \"Waltz, nymph, for, quick, jigs, vex, Bud, bud, bad, bad\"\n",
    "expected_split = [\"Waltz\", \"nymph\", \"for\", \"quick\", \"jigs\", \"vex\", \"Bud\", \"bud\", \"bad\", \"bad\"]\n",
    "expected_join = \"Waltz,nymph,for,quick,jigs,vex,Bud,bud,bad,bad\"\n",
    "expected_sort = \"Bud,Waltz,bad,bad,bud,for,jigs,nymph,quick,vex\"\n",
    "\n",
    "def custom_len(lst):\n",
    "    counter = 0\n",
    "    for item in lst:\n",
    "        counter += 1\n",
    "    return counter\n",
    "assert custom_len(test_str) == 55\n",
    "    \n",
    "def custom_split(in_str, separator):\n",
    "    split = [in_str[:1]]\n",
    "    for char in in_str[1:]:\n",
    "        if char == separator:\n",
    "            split.append(\"\")\n",
    "        elif char != \" \":\n",
    "            split[-1] += char\n",
    "    return split\n",
    "assert custom_split(test_str, ',') == expected_split\n",
    "\n",
    "def custom_join(in_lst, separator):\n",
    "    join = \"\"\n",
    "    for word in in_lst:\n",
    "        if join == \"\":\n",
    "            join = word\n",
    "        else:\n",
    "            join += f\",{word}\"\n",
    "    return join\n",
    "assert custom_join(expected_split, ',') == expected_join\n",
    "\n",
    "def sort_alpha(in_str):\n",
    "    words = custom_split(in_str, ',')\n",
    "    for i in range(1, custom_len(words)):\n",
    "        key = words[i]\n",
    "        j = i - 1\n",
    "        while j >= 0 and words[j] > key:\n",
    "            words[j+1] = words[j]\n",
    "            j -= 1\n",
    "        words[j+1] = key\n",
    "    return custom_join(words, ',')\n",
    "assert sort_alpha(test_str) == expected_sort\n",
    "#sort_alpha(test_str)"
   ]
  },
  {
   "cell_type": "code",
   "execution_count": 131,
   "metadata": {},
   "outputs": [
    {
     "name": "stderr",
     "output_type": "stream",
     "text": [
      "....................................................................................................\n",
      "----------------------------------------------------------------------\n",
      "Ran 100 tests in 0.053s\n",
      "\n",
      "OK\n"
     ]
    }
   ],
   "source": [
    "# Para testear tu función \n",
    "test_alpha(sort_alpha)"
   ]
  },
  {
   "cell_type": "markdown",
   "metadata": {},
   "source": [
    "## 12. Escribe una función para verificar si una contraseña dada es fuerte (al menos 8 caracteres, al menos una minúscula, al menos una mayúscula, al menos un número y al menos un carácter especial). Debería devolver True si es fuerte y False si no lo es."
   ]
  },
  {
   "cell_type": "code",
   "execution_count": 145,
   "metadata": {},
   "outputs": [
    {
     "name": "stderr",
     "output_type": "stream",
     "text": [
      "....................................................................................................\n",
      "----------------------------------------------------------------------\n",
      "Ran 100 tests in 0.029s\n",
      "\n",
      "OK\n"
     ]
    }
   ],
   "source": [
    "import re\n",
    "\n",
    "correct_pass = \"Abcdef7*\"\n",
    "incorrect_pass1 = \"abcdef7*\"\n",
    "incorrect_pass2 = \"Abcdefg*\"\n",
    "incorrect_pass3 = \"Abcdef7g\"\n",
    "incorrect_pass4 = \"Abcdef7\"\n",
    "\n",
    "def check_pass(password):\n",
    "    if (re.search(r\".{8,}\", password) and\n",
    "        re.search(r'\\d+', password) and\n",
    "        re.search(r'[a-z]+', password) and\n",
    "        re.search(r'[A-Z]+', password) and\n",
    "        re.search(r'\\W+', password) and not\n",
    "        re.search(r'\\s+', password)):\n",
    "        return True\n",
    "    return False\n",
    "assert check_pass(correct_pass) == True\n",
    "assert check_pass(incorrect_pass1) == False\n",
    "assert check_pass(incorrect_pass2) == False\n",
    "assert check_pass(incorrect_pass3) == False\n",
    "assert check_pass(incorrect_pass4) == False\n",
    "\n",
    "test_pass(check_pass)"
   ]
  },
  {
   "cell_type": "code",
   "execution_count": 155,
   "metadata": {},
   "outputs": [],
   "source": [
    "correct_pass = \"Abcdef7*\"\n",
    "incorrect_pass1 = \"abcdef7*\"\n",
    "incorrect_pass2 = \"Abcdefg*\"\n",
    "incorrect_pass3 = \"Abcdef7g\"\n",
    "incorrect_pass4 = \"Abcdef7\"\n",
    "\n",
    "alphabet = \"abcdefghijklmnopqrstuvwxyz\"\n",
    "nums = \"0123456789\"\n",
    "special_chars = \"!@£$%^&*()_+={}?:~[]]+\"\n",
    "\n",
    "def custom_len(lst):\n",
    "    counter = 0\n",
    "    for item in lst:\n",
    "        counter += 1\n",
    "    return counter\n",
    "assert custom_len([1,2,3,4,5]) == 5\n",
    "\n",
    "def find_match(needle, haystack):\n",
    "    for item in haystack:\n",
    "        if item == needle:\n",
    "            return True\n",
    "    return False\n",
    "assert find_match(\"a\", alphabet)\n",
    "assert find_match(\"A\", alphabet.upper())\n",
    "assert find_match(\"2\", nums)\n",
    "assert find_match(\"*\", special_chars)\n",
    "\n",
    "def match_lists(needle_lst, haystack):\n",
    "    for needle in needle_lst:\n",
    "        if find_match(needle, haystack):\n",
    "            return True\n",
    "    return False\n",
    "assert match_lists(alphabet, alphabet) == True\n",
    "assert match_lists(alphabet, nums) == False\n",
    "\n",
    "def check_pass(password):\n",
    "    if (custom_len(password) > 7 and\n",
    "        match_lists(password, alphabet) and\n",
    "        match_lists(password, alphabet.upper()) and\n",
    "        match_lists(password, nums) and\n",
    "        match_lists(password, special_chars)):\n",
    "        return True\n",
    "    return False\n",
    "    print(password)"
   ]
  },
  {
   "cell_type": "code",
   "execution_count": 138,
   "metadata": {},
   "outputs": [
    {
     "name": "stderr",
     "output_type": "stream",
     "text": [
      "....................................................................................................\n",
      "----------------------------------------------------------------------\n",
      "Ran 100 tests in 0.028s\n",
      "\n",
      "OK\n"
     ]
    }
   ],
   "source": [
    "# Para testear tu función\n",
    "test_pass(check_pass)"
   ]
  }
 ],
 "metadata": {
  "kernelspec": {
   "display_name": "Python 3 (ipykernel)",
   "language": "python",
   "name": "python3"
  },
  "language_info": {
   "codemirror_mode": {
    "name": "ipython",
    "version": 3
   },
   "file_extension": ".py",
   "mimetype": "text/x-python",
   "name": "python",
   "nbconvert_exporter": "python",
   "pygments_lexer": "ipython3",
   "version": "3.12.2"
  },
  "vscode": {
   "interpreter": {
    "hash": "aee8b7b246df8f9039afb4144a1f6fd8d2ca17a180786b69acc140d282b71a49"
   }
  }
 },
 "nbformat": 4,
 "nbformat_minor": 4
}
